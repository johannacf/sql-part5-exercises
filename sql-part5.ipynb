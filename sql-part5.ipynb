{
    "metadata": {
        "kernelspec": {
            "name": "SQL",
            "display_name": "SQL",
            "language": "sql"
        },
        "language_info": {
            "name": "sql",
            "version": ""
        }
    },
    "nbformat_minor": 2,
    "nbformat": 4,
    "cells": [
        {
            "cell_type": "markdown",
            "source": [
                "# Exercises: Creating, Updating, and Destroying Objects\n",
                "\n",
                "For the exercises, you will be working with objects and data you create. Before opening this notebook, make sure that you have set up the new connection to the server and that you have located the database and your schema.\n",
                "\n",
                "## Object Creation\n",
                "\n",
                "Before coding, think of three things you want to make. These could be coding projects, new recipes, or planned projects for a woodworking hobby. Brainstorm the appropriate column names and data types as well.\n",
                "\n",
                "Create a table under your schema called `planned_makes`."
            ],
            "metadata": {
                "azdata_cell_guid": "9d51c166-0c19-4f27-a422-2a6cf596bfb2"
            },
            "attachments": {}
        },
        {
            "cell_type": "code",
            "source": [
                "CREATE TABLE JunkDB_STL_May2023.johanna.planned_makes\r\n",
                "(\r\n",
                "    id INT PRIMARY KEY,\r\n",
                "    project VARCHAR(50) NOT NULL,\r\n",
                "    project_type VARCHAR(50) NOT NULL,\r\n",
                "\r\n",
                ")"
            ],
            "metadata": {
                "azdata_cell_guid": "d9238911-6f81-4f01-980d-b584307effaf",
                "language": "sql"
            },
            "outputs": [
                {
                    "output_type": "error",
                    "evalue": "Msg 2714, Level 16, State 6, Line 1\r\nThere is already an object named 'planned_makes' in the database.",
                    "ename": "",
                    "traceback": []
                },
                {
                    "output_type": "display_data",
                    "data": {
                        "text/html": "Total execution time: 00:00:00.049"
                    },
                    "metadata": {}
                }
            ],
            "execution_count": 5
        },
        {
            "cell_type": "code",
            "source": [
                "SELECT * from JunkDB_STL_May2023.johanna.planned_makes"
            ],
            "metadata": {
                "language": "sql",
                "azdata_cell_guid": "6e1dd4b2-40be-4cc1-885d-0489a517417d"
            },
            "outputs": [
                {
                    "output_type": "display_data",
                    "data": {
                        "text/html": "(0 rows affected)"
                    },
                    "metadata": {}
                },
                {
                    "output_type": "display_data",
                    "data": {
                        "text/html": "Total execution time: 00:00:00.096"
                    },
                    "metadata": {}
                },
                {
                    "output_type": "execute_result",
                    "metadata": {},
                    "execution_count": 7,
                    "data": {
                        "application/vnd.dataresource+json": {
                            "schema": {
                                "fields": [
                                    {
                                        "name": "id"
                                    },
                                    {
                                        "name": "project"
                                    },
                                    {
                                        "name": "project_type"
                                    }
                                ]
                            },
                            "data": []
                        },
                        "text/html": [
                            "<table>",
                            "<tr><th>id</th><th>project</th><th>project_type</th></tr>",
                            "</table>"
                        ]
                    }
                }
            ],
            "execution_count": 7
        },
        {
            "cell_type": "markdown",
            "source": [
                "Add three rows to your table that are your planned makes."
            ],
            "metadata": {
                "azdata_cell_guid": "83cdf34d-8c4f-4fa1-a14e-77384b19d734"
            }
        },
        {
            "cell_type": "code",
            "source": [
                "INSERT INTO JunkDB_STL_May2023.johanna.planned_makes\r\n",
                "VALUES (3, 'build dollhouse furniture','hobby'),\r\n",
                "(4, 'learn SQL lol','coding');"
            ],
            "metadata": {
                "azdata_cell_guid": "e7cff9cb-87ba-4c7b-98f2-eaf445e8719c",
                "language": "sql",
                "tags": []
            },
            "outputs": [
                {
                    "output_type": "display_data",
                    "data": {
                        "text/html": "(2 rows affected)"
                    },
                    "metadata": {}
                },
                {
                    "output_type": "display_data",
                    "data": {
                        "text/html": "Total execution time: 00:00:00.041"
                    },
                    "metadata": {}
                }
            ],
            "execution_count": 14
        },
        {
            "cell_type": "code",
            "source": [
                "select * from JunkDB_STL_May2023.johanna.planned_makes"
            ],
            "metadata": {
                "language": "sql",
                "azdata_cell_guid": "04dbfb55-fa95-4db8-bcb2-aef6835bd572"
            },
            "outputs": [
                {
                    "output_type": "display_data",
                    "data": {
                        "text/html": "(4 rows affected)"
                    },
                    "metadata": {}
                },
                {
                    "output_type": "display_data",
                    "data": {
                        "text/html": "Total execution time: 00:00:00.087"
                    },
                    "metadata": {}
                },
                {
                    "output_type": "execute_result",
                    "metadata": {},
                    "execution_count": 15,
                    "data": {
                        "application/vnd.dataresource+json": {
                            "schema": {
                                "fields": [
                                    {
                                        "name": "id"
                                    },
                                    {
                                        "name": "project"
                                    },
                                    {
                                        "name": "project_type"
                                    }
                                ]
                            },
                            "data": [
                                {
                                    "id": "1",
                                    "project": "make lime squiggles",
                                    "project_type": "recipe"
                                },
                                {
                                    "id": "2",
                                    "project": "make lime squiggles",
                                    "project_type": "recipe"
                                },
                                {
                                    "id": "3",
                                    "project": "build dollhouse furniture",
                                    "project_type": "hobby"
                                },
                                {
                                    "id": "4",
                                    "project": "learn SQL lol",
                                    "project_type": "coding"
                                }
                            ]
                        },
                        "text/html": [
                            "<table>",
                            "<tr><th>id</th><th>project</th><th>project_type</th></tr>",
                            "<tr><td>1</td><td>make lime squiggles</td><td>recipe</td></tr>",
                            "<tr><td>2</td><td>make lime squiggles</td><td>recipe</td></tr>",
                            "<tr><td>3</td><td>build dollhouse furniture</td><td>hobby</td></tr>",
                            "<tr><td>4</td><td>learn SQL lol</td><td>coding</td></tr>",
                            "</table>"
                        ]
                    }
                }
            ],
            "execution_count": 15
        },
        {
            "cell_type": "markdown",
            "source": [
                "## Update a Row\n",
                "\n",
                "Change different values in one of your three rows."
            ],
            "metadata": {
                "azdata_cell_guid": "4a39b8d4-ae97-4e09-8336-c5fc6a00d76c"
            },
            "attachments": {}
        },
        {
            "cell_type": "code",
            "source": [
                "-- i messed up creating all the rows above so I am going to redo the id #2\r\n",
                "UPDATE JunkDB_STL_May2023.johanna.planned_makes \r\n",
                "SET \r\n",
                "    project = 'jambalaya',\r\n",
                "    project_type = 'recipe'\r\n",
                "WHERE\r\n",
                "    id = 2;"
            ],
            "metadata": {
                "azdata_cell_guid": "7409c695-9581-4ad8-b03a-574d2c4c87cb",
                "language": "sql"
            },
            "outputs": [
                {
                    "output_type": "display_data",
                    "data": {
                        "text/html": "(1 row affected)"
                    },
                    "metadata": {}
                },
                {
                    "output_type": "display_data",
                    "data": {
                        "text/html": "Total execution time: 00:00:00.050"
                    },
                    "metadata": {}
                }
            ],
            "execution_count": 17
        },
        {
            "cell_type": "code",
            "source": [
                "select * from JunkDB_STL_May2023.johanna.planned_makes"
            ],
            "metadata": {
                "language": "sql",
                "azdata_cell_guid": "147e32d8-3175-4576-9000-7940d911a35e"
            },
            "outputs": [
                {
                    "output_type": "display_data",
                    "data": {
                        "text/html": "(4 rows affected)"
                    },
                    "metadata": {}
                },
                {
                    "output_type": "display_data",
                    "data": {
                        "text/html": "Total execution time: 00:00:00.054"
                    },
                    "metadata": {}
                },
                {
                    "output_type": "execute_result",
                    "metadata": {},
                    "execution_count": 18,
                    "data": {
                        "application/vnd.dataresource+json": {
                            "schema": {
                                "fields": [
                                    {
                                        "name": "id"
                                    },
                                    {
                                        "name": "project"
                                    },
                                    {
                                        "name": "project_type"
                                    }
                                ]
                            },
                            "data": [
                                {
                                    "id": "1",
                                    "project": "make lime squiggles",
                                    "project_type": "recipe"
                                },
                                {
                                    "id": "2",
                                    "project": "jambalaya",
                                    "project_type": "recipe"
                                },
                                {
                                    "id": "3",
                                    "project": "build dollhouse furniture",
                                    "project_type": "hobby"
                                },
                                {
                                    "id": "4",
                                    "project": "learn SQL lol",
                                    "project_type": "coding"
                                }
                            ]
                        },
                        "text/html": [
                            "<table>",
                            "<tr><th>id</th><th>project</th><th>project_type</th></tr>",
                            "<tr><td>1</td><td>make lime squiggles</td><td>recipe</td></tr>",
                            "<tr><td>2</td><td>jambalaya</td><td>recipe</td></tr>",
                            "<tr><td>3</td><td>build dollhouse furniture</td><td>hobby</td></tr>",
                            "<tr><td>4</td><td>learn SQL lol</td><td>coding</td></tr>",
                            "</table>"
                        ]
                    }
                }
            ],
            "execution_count": 18
        },
        {
            "cell_type": "markdown",
            "source": [
                "## Delete a Row\n",
                "\n",
                "Delete one of the rows from your table."
            ],
            "metadata": {
                "azdata_cell_guid": "95e91a6e-9038-42d9-9401-5738842aba17"
            }
        },
        {
            "cell_type": "code",
            "source": [
                "delete from JunkDB_STL_May2023.johanna.planned_makes\r\n",
                "where id = 4;"
            ],
            "metadata": {
                "azdata_cell_guid": "749c748f-19b5-4c69-9004-b6b20216616a",
                "language": "sql"
            },
            "outputs": [
                {
                    "output_type": "display_data",
                    "data": {
                        "text/html": "(1 row affected)"
                    },
                    "metadata": {}
                },
                {
                    "output_type": "display_data",
                    "data": {
                        "text/html": "Total execution time: 00:00:00.034"
                    },
                    "metadata": {}
                }
            ],
            "execution_count": 19
        },
        {
            "cell_type": "code",
            "source": [
                "select * from JunkDB_STL_May2023.johanna.planned_makes"
            ],
            "metadata": {
                "language": "sql",
                "azdata_cell_guid": "86e32745-6be7-405e-9871-3448619e810a"
            },
            "outputs": [
                {
                    "output_type": "display_data",
                    "data": {
                        "text/html": "(3 rows affected)"
                    },
                    "metadata": {}
                },
                {
                    "output_type": "display_data",
                    "data": {
                        "text/html": "Total execution time: 00:00:00.041"
                    },
                    "metadata": {}
                },
                {
                    "output_type": "execute_result",
                    "metadata": {},
                    "execution_count": 20,
                    "data": {
                        "application/vnd.dataresource+json": {
                            "schema": {
                                "fields": [
                                    {
                                        "name": "id"
                                    },
                                    {
                                        "name": "project"
                                    },
                                    {
                                        "name": "project_type"
                                    }
                                ]
                            },
                            "data": [
                                {
                                    "id": "1",
                                    "project": "make lime squiggles",
                                    "project_type": "recipe"
                                },
                                {
                                    "id": "2",
                                    "project": "jambalaya",
                                    "project_type": "recipe"
                                },
                                {
                                    "id": "3",
                                    "project": "build dollhouse furniture",
                                    "project_type": "hobby"
                                }
                            ]
                        },
                        "text/html": [
                            "<table>",
                            "<tr><th>id</th><th>project</th><th>project_type</th></tr>",
                            "<tr><td>1</td><td>make lime squiggles</td><td>recipe</td></tr>",
                            "<tr><td>2</td><td>jambalaya</td><td>recipe</td></tr>",
                            "<tr><td>3</td><td>build dollhouse furniture</td><td>hobby</td></tr>",
                            "</table>"
                        ]
                    }
                }
            ],
            "execution_count": 20
        },
        {
            "cell_type": "markdown",
            "source": [
                "## Drop the Table\n",
                "\n",
                "While this has been fun, it is time to drop the table!"
            ],
            "metadata": {
                "azdata_cell_guid": "2239cb09-137b-4579-905b-1aa020793181"
            },
            "attachments": {}
        },
        {
            "cell_type": "code",
            "source": [
                "DROP TABLE JunkDB_STL_May2023.johanna.planned_makes;"
            ],
            "metadata": {
                "azdata_cell_guid": "b3c7f6ea-ee26-46b3-9c2a-2f7a82c39699",
                "language": "sql"
            },
            "outputs": [
                {
                    "output_type": "display_data",
                    "data": {
                        "text/html": "Commands completed successfully."
                    },
                    "metadata": {}
                },
                {
                    "output_type": "display_data",
                    "data": {
                        "text/html": "Total execution time: 00:00:00.038"
                    },
                    "metadata": {}
                }
            ],
            "execution_count": 22
        }
    ]
}